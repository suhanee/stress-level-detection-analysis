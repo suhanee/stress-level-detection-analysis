{
 "cells": [
  {
   "cell_type": "markdown",
   "id": "bf0e0a12",
   "metadata": {
    "papermill": {
     "duration": 0.005769,
     "end_time": "2022-07-25T16:00:35.882218",
     "exception": false,
     "start_time": "2022-07-25T16:00:35.876449",
     "status": "completed"
    },
    "tags": []
   },
   "source": [
    "# **1. Load the Modules**"
   ]
  },
  {
   "cell_type": "code",
   "execution_count": 1,
   "id": "9d372284",
   "metadata": {
    "execution": {
     "iopub.execute_input": "2022-07-25T16:00:35.894099Z",
     "iopub.status.busy": "2022-07-25T16:00:35.893480Z",
     "iopub.status.idle": "2022-07-25T16:00:37.303406Z",
     "shell.execute_reply": "2022-07-25T16:00:37.302095Z"
    },
    "papermill": {
     "duration": 1.419538,
     "end_time": "2022-07-25T16:00:37.306618",
     "exception": false,
     "start_time": "2022-07-25T16:00:35.887080",
     "status": "completed"
    },
    "tags": []
   },
   "outputs": [],
   "source": [
    "import pandas as pd\n",
    "import numpy as np\n",
    "import matplotlib.pyplot as plt\n",
    "\n",
    "from sklearn.model_selection import train_test_split"
   ]
  },
  {
   "cell_type": "markdown",
   "id": "a2a72e09",
   "metadata": {
    "papermill": {
     "duration": 0.004363,
     "end_time": "2022-07-25T16:00:37.315730",
     "exception": false,
     "start_time": "2022-07-25T16:00:37.311367",
     "status": "completed"
    },
    "tags": []
   },
   "source": [
    "# **2. Load the Dataset**"
   ]
  },
  {
   "cell_type": "code",
   "execution_count": 2,
   "id": "347a91c0",
   "metadata": {
    "execution": {
     "iopub.execute_input": "2022-07-25T16:00:37.328635Z",
     "iopub.status.busy": "2022-07-25T16:00:37.327643Z",
     "iopub.status.idle": "2022-07-25T16:00:37.350681Z",
     "shell.execute_reply": "2022-07-25T16:00:37.349437Z"
    },
    "papermill": {
     "duration": 0.032818,
     "end_time": "2022-07-25T16:00:37.353759",
     "exception": false,
     "start_time": "2022-07-25T16:00:37.320941",
     "status": "completed"
    },
    "tags": []
   },
   "outputs": [],
   "source": [
    "# LOading dataset\n",
    "df = pd.read_csv(\"/kaggle/input/stress-level-detection/Stress-Lysis.csv\")"
   ]
  },
  {
   "cell_type": "code",
   "execution_count": 3,
   "id": "93013867",
   "metadata": {
    "execution": {
     "iopub.execute_input": "2022-07-25T16:00:37.367661Z",
     "iopub.status.busy": "2022-07-25T16:00:37.366803Z",
     "iopub.status.idle": "2022-07-25T16:00:37.393435Z",
     "shell.execute_reply": "2022-07-25T16:00:37.392438Z"
    },
    "papermill": {
     "duration": 0.037746,
     "end_time": "2022-07-25T16:00:37.396938",
     "exception": false,
     "start_time": "2022-07-25T16:00:37.359192",
     "status": "completed"
    },
    "tags": []
   },
   "outputs": [
    {
     "data": {
      "text/html": [
       "<div>\n",
       "<style scoped>\n",
       "    .dataframe tbody tr th:only-of-type {\n",
       "        vertical-align: middle;\n",
       "    }\n",
       "\n",
       "    .dataframe tbody tr th {\n",
       "        vertical-align: top;\n",
       "    }\n",
       "\n",
       "    .dataframe thead th {\n",
       "        text-align: right;\n",
       "    }\n",
       "</style>\n",
       "<table border=\"1\" class=\"dataframe\">\n",
       "  <thead>\n",
       "    <tr style=\"text-align: right;\">\n",
       "      <th></th>\n",
       "      <th>Humidity</th>\n",
       "      <th>Temperature</th>\n",
       "      <th>Step count</th>\n",
       "      <th>Stress Level</th>\n",
       "    </tr>\n",
       "  </thead>\n",
       "  <tbody>\n",
       "    <tr>\n",
       "      <th>0</th>\n",
       "      <td>21.33</td>\n",
       "      <td>90.33</td>\n",
       "      <td>123</td>\n",
       "      <td>1</td>\n",
       "    </tr>\n",
       "    <tr>\n",
       "      <th>1</th>\n",
       "      <td>21.41</td>\n",
       "      <td>90.41</td>\n",
       "      <td>93</td>\n",
       "      <td>1</td>\n",
       "    </tr>\n",
       "    <tr>\n",
       "      <th>2</th>\n",
       "      <td>27.12</td>\n",
       "      <td>96.12</td>\n",
       "      <td>196</td>\n",
       "      <td>2</td>\n",
       "    </tr>\n",
       "    <tr>\n",
       "      <th>3</th>\n",
       "      <td>27.64</td>\n",
       "      <td>96.64</td>\n",
       "      <td>177</td>\n",
       "      <td>2</td>\n",
       "    </tr>\n",
       "    <tr>\n",
       "      <th>4</th>\n",
       "      <td>10.87</td>\n",
       "      <td>79.87</td>\n",
       "      <td>87</td>\n",
       "      <td>0</td>\n",
       "    </tr>\n",
       "  </tbody>\n",
       "</table>\n",
       "</div>"
      ],
      "text/plain": [
       "   Humidity  Temperature  Step count  Stress Level\n",
       "0     21.33        90.33         123             1\n",
       "1     21.41        90.41          93             1\n",
       "2     27.12        96.12         196             2\n",
       "3     27.64        96.64         177             2\n",
       "4     10.87        79.87          87             0"
      ]
     },
     "execution_count": 3,
     "metadata": {},
     "output_type": "execute_result"
    }
   ],
   "source": [
    "# see the first 5 rows of dataset\n",
    "df.head()"
   ]
  },
  {
   "cell_type": "code",
   "execution_count": 4,
   "id": "e10d416e",
   "metadata": {
    "execution": {
     "iopub.execute_input": "2022-07-25T16:00:37.409912Z",
     "iopub.status.busy": "2022-07-25T16:00:37.408916Z",
     "iopub.status.idle": "2022-07-25T16:00:37.423456Z",
     "shell.execute_reply": "2022-07-25T16:00:37.421738Z"
    },
    "papermill": {
     "duration": 0.023993,
     "end_time": "2022-07-25T16:00:37.426164",
     "exception": false,
     "start_time": "2022-07-25T16:00:37.402171",
     "status": "completed"
    },
    "tags": []
   },
   "outputs": [
    {
     "data": {
      "text/html": [
       "<div>\n",
       "<style scoped>\n",
       "    .dataframe tbody tr th:only-of-type {\n",
       "        vertical-align: middle;\n",
       "    }\n",
       "\n",
       "    .dataframe tbody tr th {\n",
       "        vertical-align: top;\n",
       "    }\n",
       "\n",
       "    .dataframe thead th {\n",
       "        text-align: right;\n",
       "    }\n",
       "</style>\n",
       "<table border=\"1\" class=\"dataframe\">\n",
       "  <thead>\n",
       "    <tr style=\"text-align: right;\">\n",
       "      <th></th>\n",
       "      <th>Humidity</th>\n",
       "      <th>Temperature</th>\n",
       "      <th>Step count</th>\n",
       "      <th>Stress Level</th>\n",
       "    </tr>\n",
       "  </thead>\n",
       "  <tbody>\n",
       "    <tr>\n",
       "      <th>1996</th>\n",
       "      <td>21.82</td>\n",
       "      <td>90.82</td>\n",
       "      <td>96</td>\n",
       "      <td>1</td>\n",
       "    </tr>\n",
       "    <tr>\n",
       "      <th>1997</th>\n",
       "      <td>10.45</td>\n",
       "      <td>79.45</td>\n",
       "      <td>45</td>\n",
       "      <td>0</td>\n",
       "    </tr>\n",
       "    <tr>\n",
       "      <th>1998</th>\n",
       "      <td>27.22</td>\n",
       "      <td>96.22</td>\n",
       "      <td>135</td>\n",
       "      <td>2</td>\n",
       "    </tr>\n",
       "    <tr>\n",
       "      <th>1999</th>\n",
       "      <td>12.46</td>\n",
       "      <td>81.46</td>\n",
       "      <td>64</td>\n",
       "      <td>0</td>\n",
       "    </tr>\n",
       "    <tr>\n",
       "      <th>2000</th>\n",
       "      <td>16.87</td>\n",
       "      <td>85.87</td>\n",
       "      <td>50</td>\n",
       "      <td>1</td>\n",
       "    </tr>\n",
       "  </tbody>\n",
       "</table>\n",
       "</div>"
      ],
      "text/plain": [
       "      Humidity  Temperature  Step count  Stress Level\n",
       "1996     21.82        90.82          96             1\n",
       "1997     10.45        79.45          45             0\n",
       "1998     27.22        96.22         135             2\n",
       "1999     12.46        81.46          64             0\n",
       "2000     16.87        85.87          50             1"
      ]
     },
     "execution_count": 4,
     "metadata": {},
     "output_type": "execute_result"
    }
   ],
   "source": [
    "# see the last 5 rows\n",
    "df.tail()"
   ]
  },
  {
   "cell_type": "markdown",
   "id": "54f68ea1",
   "metadata": {
    "papermill": {
     "duration": 0.004991,
     "end_time": "2022-07-25T16:00:37.436574",
     "exception": false,
     "start_time": "2022-07-25T16:00:37.431583",
     "status": "completed"
    },
    "tags": []
   },
   "source": [
    "### **Shape of the Dataset**"
   ]
  },
  {
   "cell_type": "code",
   "execution_count": 5,
   "id": "c1856bef",
   "metadata": {
    "execution": {
     "iopub.execute_input": "2022-07-25T16:00:37.451043Z",
     "iopub.status.busy": "2022-07-25T16:00:37.450486Z",
     "iopub.status.idle": "2022-07-25T16:00:37.457831Z",
     "shell.execute_reply": "2022-07-25T16:00:37.456811Z"
    },
    "papermill": {
     "duration": 0.017123,
     "end_time": "2022-07-25T16:00:37.460235",
     "exception": false,
     "start_time": "2022-07-25T16:00:37.443112",
     "status": "completed"
    },
    "tags": []
   },
   "outputs": [
    {
     "data": {
      "text/plain": [
       "(2001, 4)"
      ]
     },
     "execution_count": 5,
     "metadata": {},
     "output_type": "execute_result"
    }
   ],
   "source": [
    "df.shape"
   ]
  },
  {
   "cell_type": "markdown",
   "id": "25b4429e",
   "metadata": {
    "papermill": {
     "duration": 0.005347,
     "end_time": "2022-07-25T16:00:37.470811",
     "exception": false,
     "start_time": "2022-07-25T16:00:37.465464",
     "status": "completed"
    },
    "tags": []
   },
   "source": [
    "# **3. Exploaratory Data Analysis**"
   ]
  },
  {
   "cell_type": "markdown",
   "id": "babd6a9d",
   "metadata": {
    "papermill": {
     "duration": 0.004939,
     "end_time": "2022-07-25T16:00:37.481165",
     "exception": false,
     "start_time": "2022-07-25T16:00:37.476226",
     "status": "completed"
    },
    "tags": []
   },
   "source": [
    "### **dataset description**"
   ]
  },
  {
   "cell_type": "code",
   "execution_count": 6,
   "id": "24198037",
   "metadata": {
    "execution": {
     "iopub.execute_input": "2022-07-25T16:00:37.494704Z",
     "iopub.status.busy": "2022-07-25T16:00:37.494138Z",
     "iopub.status.idle": "2022-07-25T16:00:37.540677Z",
     "shell.execute_reply": "2022-07-25T16:00:37.538680Z"
    },
    "papermill": {
     "duration": 0.056578,
     "end_time": "2022-07-25T16:00:37.543677",
     "exception": false,
     "start_time": "2022-07-25T16:00:37.487099",
     "status": "completed"
    },
    "tags": []
   },
   "outputs": [
    {
     "data": {
      "text/html": [
       "<div>\n",
       "<style scoped>\n",
       "    .dataframe tbody tr th:only-of-type {\n",
       "        vertical-align: middle;\n",
       "    }\n",
       "\n",
       "    .dataframe tbody tr th {\n",
       "        vertical-align: top;\n",
       "    }\n",
       "\n",
       "    .dataframe thead th {\n",
       "        text-align: right;\n",
       "    }\n",
       "</style>\n",
       "<table border=\"1\" class=\"dataframe\">\n",
       "  <thead>\n",
       "    <tr style=\"text-align: right;\">\n",
       "      <th></th>\n",
       "      <th>count</th>\n",
       "      <th>mean</th>\n",
       "      <th>std</th>\n",
       "      <th>min</th>\n",
       "      <th>25%</th>\n",
       "      <th>50%</th>\n",
       "      <th>75%</th>\n",
       "      <th>max</th>\n",
       "    </tr>\n",
       "  </thead>\n",
       "  <tbody>\n",
       "    <tr>\n",
       "      <th>Humidity</th>\n",
       "      <td>2001.0</td>\n",
       "      <td>20.000000</td>\n",
       "      <td>5.777833</td>\n",
       "      <td>10.0</td>\n",
       "      <td>15.0</td>\n",
       "      <td>20.0</td>\n",
       "      <td>25.0</td>\n",
       "      <td>30.0</td>\n",
       "    </tr>\n",
       "    <tr>\n",
       "      <th>Temperature</th>\n",
       "      <td>2001.0</td>\n",
       "      <td>89.000000</td>\n",
       "      <td>5.777833</td>\n",
       "      <td>79.0</td>\n",
       "      <td>84.0</td>\n",
       "      <td>89.0</td>\n",
       "      <td>94.0</td>\n",
       "      <td>99.0</td>\n",
       "    </tr>\n",
       "    <tr>\n",
       "      <th>Step count</th>\n",
       "      <td>2001.0</td>\n",
       "      <td>100.141429</td>\n",
       "      <td>58.182948</td>\n",
       "      <td>0.0</td>\n",
       "      <td>50.0</td>\n",
       "      <td>101.0</td>\n",
       "      <td>150.0</td>\n",
       "      <td>200.0</td>\n",
       "    </tr>\n",
       "    <tr>\n",
       "      <th>Stress Level</th>\n",
       "      <td>2001.0</td>\n",
       "      <td>1.104448</td>\n",
       "      <td>0.771094</td>\n",
       "      <td>0.0</td>\n",
       "      <td>0.0</td>\n",
       "      <td>1.0</td>\n",
       "      <td>2.0</td>\n",
       "      <td>2.0</td>\n",
       "    </tr>\n",
       "  </tbody>\n",
       "</table>\n",
       "</div>"
      ],
      "text/plain": [
       "               count        mean        std   min   25%    50%    75%    max\n",
       "Humidity      2001.0   20.000000   5.777833  10.0  15.0   20.0   25.0   30.0\n",
       "Temperature   2001.0   89.000000   5.777833  79.0  84.0   89.0   94.0   99.0\n",
       "Step count    2001.0  100.141429  58.182948   0.0  50.0  101.0  150.0  200.0\n",
       "Stress Level  2001.0    1.104448   0.771094   0.0   0.0    1.0    2.0    2.0"
      ]
     },
     "execution_count": 6,
     "metadata": {},
     "output_type": "execute_result"
    }
   ],
   "source": [
    "# Describe of Features\n",
    "df.describe().T"
   ]
  },
  {
   "cell_type": "markdown",
   "id": "4e4025fe",
   "metadata": {
    "papermill": {
     "duration": 0.005254,
     "end_time": "2022-07-25T16:00:37.555215",
     "exception": false,
     "start_time": "2022-07-25T16:00:37.549961",
     "status": "completed"
    },
    "tags": []
   },
   "source": [
    "### **Null values**"
   ]
  },
  {
   "cell_type": "code",
   "execution_count": 7,
   "id": "3fa411a0",
   "metadata": {
    "execution": {
     "iopub.execute_input": "2022-07-25T16:00:37.569610Z",
     "iopub.status.busy": "2022-07-25T16:00:37.569194Z",
     "iopub.status.idle": "2022-07-25T16:00:37.580252Z",
     "shell.execute_reply": "2022-07-25T16:00:37.578633Z"
    },
    "papermill": {
     "duration": 0.02216,
     "end_time": "2022-07-25T16:00:37.583682",
     "exception": false,
     "start_time": "2022-07-25T16:00:37.561522",
     "status": "completed"
    },
    "tags": []
   },
   "outputs": [
    {
     "data": {
      "text/plain": [
       "Humidity        0\n",
       "Temperature     0\n",
       "Step count      0\n",
       "Stress Level    0\n",
       "dtype: int64"
      ]
     },
     "execution_count": 7,
     "metadata": {},
     "output_type": "execute_result"
    }
   ],
   "source": [
    "df.isna().sum()"
   ]
  },
  {
   "cell_type": "markdown",
   "id": "958f28d3",
   "metadata": {
    "papermill": {
     "duration": 0.005442,
     "end_time": "2022-07-25T16:00:37.595133",
     "exception": false,
     "start_time": "2022-07-25T16:00:37.589691",
     "status": "completed"
    },
    "tags": []
   },
   "source": [
    "No null values observed"
   ]
  },
  {
   "cell_type": "markdown",
   "id": "5ed7beed",
   "metadata": {
    "papermill": {
     "duration": 0.005689,
     "end_time": "2022-07-25T16:00:37.607217",
     "exception": false,
     "start_time": "2022-07-25T16:00:37.601528",
     "status": "completed"
    },
    "tags": []
   },
   "source": [
    "### **info**"
   ]
  },
  {
   "cell_type": "code",
   "execution_count": 8,
   "id": "73a78901",
   "metadata": {
    "execution": {
     "iopub.execute_input": "2022-07-25T16:00:37.620292Z",
     "iopub.status.busy": "2022-07-25T16:00:37.619889Z",
     "iopub.status.idle": "2022-07-25T16:00:37.641497Z",
     "shell.execute_reply": "2022-07-25T16:00:37.639678Z"
    },
    "papermill": {
     "duration": 0.031028,
     "end_time": "2022-07-25T16:00:37.643965",
     "exception": false,
     "start_time": "2022-07-25T16:00:37.612937",
     "status": "completed"
    },
    "tags": []
   },
   "outputs": [
    {
     "name": "stdout",
     "output_type": "stream",
     "text": [
      "<class 'pandas.core.frame.DataFrame'>\n",
      "RangeIndex: 2001 entries, 0 to 2000\n",
      "Data columns (total 4 columns):\n",
      " #   Column        Non-Null Count  Dtype  \n",
      "---  ------        --------------  -----  \n",
      " 0   Humidity      2001 non-null   float64\n",
      " 1   Temperature   2001 non-null   float64\n",
      " 2   Step count    2001 non-null   int64  \n",
      " 3   Stress Level  2001 non-null   int64  \n",
      "dtypes: float64(2), int64(2)\n",
      "memory usage: 62.7 KB\n"
     ]
    }
   ],
   "source": [
    "df.info()"
   ]
  },
  {
   "cell_type": "code",
   "execution_count": null,
   "id": "09d66e45",
   "metadata": {
    "papermill": {
     "duration": 0.0053,
     "end_time": "2022-07-25T16:00:37.655800",
     "exception": false,
     "start_time": "2022-07-25T16:00:37.650500",
     "status": "completed"
    },
    "tags": []
   },
   "outputs": [],
   "source": []
  }
 ],
 "metadata": {
  "kernelspec": {
   "display_name": "Python 3",
   "language": "python",
   "name": "python3"
  },
  "language_info": {
   "codemirror_mode": {
    "name": "ipython",
    "version": 3
   },
   "file_extension": ".py",
   "mimetype": "text/x-python",
   "name": "python",
   "nbconvert_exporter": "python",
   "pygments_lexer": "ipython3",
   "version": "3.7.12"
  },
  "papermill": {
   "default_parameters": {},
   "duration": 15.074874,
   "end_time": "2022-07-25T16:00:38.486070",
   "environment_variables": {},
   "exception": null,
   "input_path": "__notebook__.ipynb",
   "output_path": "__notebook__.ipynb",
   "parameters": {},
   "start_time": "2022-07-25T16:00:23.411196",
   "version": "2.3.4"
  }
 },
 "nbformat": 4,
 "nbformat_minor": 5
}
